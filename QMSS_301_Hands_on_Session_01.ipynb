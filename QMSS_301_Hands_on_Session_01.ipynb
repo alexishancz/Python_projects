{
  "nbformat": 4,
  "nbformat_minor": 0,
  "metadata": {
    "colab": {
      "provenance": []
    },
    "kernelspec": {
      "name": "python3",
      "display_name": "Python 3"
    },
    "language_info": {
      "name": "python"
    }
  },
  "cells": [
    {
      "cell_type": "markdown",
      "source": [
        "# Question 1"
      ],
      "metadata": {
        "id": "lIBxrMegFFIU"
      }
    },
    {
      "cell_type": "markdown",
      "source": [
        "\n",
        "Explain the difference between the following two statements:\n",
        "\n",
        "print (12)\n",
        "\n",
        "print (\"12\")\n",
        "\n"
      ],
      "metadata": {
        "id": "G-9YhovfDpkk"
      }
    },
    {
      "cell_type": "code",
      "execution_count": 1,
      "metadata": {
        "id": "Bx8C0BBUDmG7"
      },
      "outputs": [],
      "source": [
        "# Explain the difference between the following two statements:\n",
        "# print (12)\n",
        "# print (\"12\")\n",
        "# Your response:\n",
        "\n",
        "#The first one is a numeric interger that you can manipulate mathematically. The second one in quotes is a string, which is really an array representing a character. \n",
        "\n"
      ]
    },
    {
      "cell_type": "markdown",
      "source": [
        "# Question 2"
      ],
      "metadata": {
        "id": "DBbI8UMiFQzA"
      }
    },
    {
      "cell_type": "markdown",
      "source": [
        "a=3\n",
        "\n",
        "b='0'\n",
        "\n",
        "c=a-2\n",
        "\n",
        "d=\"from\"\n",
        "\n",
        "e=\"QMSS\"\n",
        "\n",
        "f='at'\n",
        "\n",
        "g='U of M'\n",
        "\n",
        "print (a, b, c, d, e, f, g)\n",
        "\n",
        "What is the output of the above program?\n",
        "\n",
        "What are the types of the variables a, b, c, d, e, f, g in the program?"
      ],
      "metadata": {
        "id": "OEBJYhCNEEz8"
      }
    },
    {
      "cell_type": "code",
      "source": [
        "# Your response:\n",
        "a=3\n",
        "b='0'\n",
        "c=a-2\n",
        "d=\"from\"\n",
        "e=\"QMSS\"\n",
        "f='at'\n",
        "g='U of M'\n",
        "print (a, b, c, d, e, f, g)\n",
        "\n",
        "# Your response: The output is \"301 from QMSS at U of M\". \n",
        "\n",
        "#a and c are numeric intergers. b is a string. d through g are strings. "
      ],
      "metadata": {
        "id": "V51CxTbsEVs7",
        "colab": {
          "base_uri": "https://localhost:8080/"
        },
        "outputId": "8a281f0f-0d15-401c-bd15-a0b0af5c2425"
      },
      "execution_count": 2,
      "outputs": [
        {
          "output_type": "stream",
          "name": "stdout",
          "text": [
            "3 0 1 from QMSS at U of M\n"
          ]
        }
      ]
    },
    {
      "cell_type": "markdown",
      "source": [
        "# Question 3"
      ],
      "metadata": {
        "id": "BrKJ3hstFeYa"
      }
    },
    {
      "cell_type": "markdown",
      "source": [
        "What is the difference between the following expressions? \n",
        "\n",
        "c1 = 299792458\n",
        "\n",
        "c2 = 2.99792458 * 10 ** 8"
      ],
      "metadata": {
        "id": "TMJjcgc7Gvus"
      }
    },
    {
      "cell_type": "code",
      "source": [
        "c1 = 299792458\n",
        "c2 = 2.99792458 * 10 ** 8\n",
        "# Your response:\n",
        "#c1 is a numeric interger and the second is a float function named c2. "
      ],
      "metadata": {
        "id": "ltTGfHq7HKbx",
        "colab": {
          "base_uri": "https://localhost:8080/"
        },
        "outputId": "78f94c3d-3b61-4271-e3bd-40a13a8095e8"
      },
      "execution_count": 3,
      "outputs": [
        {
          "output_type": "execute_result",
          "data": {
            "text/plain": [
              "float"
            ]
          },
          "metadata": {},
          "execution_count": 3
        }
      ]
    },
    {
      "cell_type": "markdown",
      "source": [
        "# Question 4"
      ],
      "metadata": {
        "id": "BYjECZ7tKH8e"
      }
    },
    {
      "cell_type": "markdown",
      "source": [
        "What is the result of the expression **not(True or False)**? Discuss your findings."
      ],
      "metadata": {
        "id": "PI01o8DjJ3cN"
      }
    },
    {
      "cell_type": "code",
      "source": [
        "# Your response:\n",
        "\n",
        "not(True or False)\n",
        "\n",
        "#The function is checking the precense of True OR False. Since both are present, it prints \"False\"; in other words, it is false to say that the expression is neither true nor false. It must be one or the other, so Python returns \"False\" to us. \n"
      ],
      "metadata": {
        "id": "DclaE_JJKQiB",
        "colab": {
          "base_uri": "https://localhost:8080/"
        },
        "outputId": "d8c7bd7b-76e6-458d-b89c-662cb4a7885f"
      },
      "execution_count": 4,
      "outputs": [
        {
          "output_type": "execute_result",
          "data": {
            "text/plain": [
              "False"
            ]
          },
          "metadata": {},
          "execution_count": 4
        }
      ]
    },
    {
      "cell_type": "markdown",
      "source": [
        "# Question 5"
      ],
      "metadata": {
        "id": "LO7x5BS3KYTs"
      }
    },
    {
      "cell_type": "markdown",
      "source": [
        "Start with the list [3, 4, 1]. Do the following:\n",
        "\n",
        "(a) Set the second entry (index 1) to 0\n",
        "\n",
        "(b) Remove the first entry from the list"
      ],
      "metadata": {
        "id": "Prr8JvqwH6Gb"
      }
    },
    {
      "cell_type": "code",
      "source": [
        "list_given = [3, 4, 1]\n",
        "# Your response: \n",
        "\n",
        "list_given[1] = 0\n",
        "print(list_given)\n",
        "#[3, 0, 1]\n",
        "\n",
        "list_given.remove(3)\n",
        "print(list_given)\n",
        "#[0, 1]\n",
        "\n"
      ],
      "metadata": {
        "id": "1oBUR_CCPgFP",
        "colab": {
          "base_uri": "https://localhost:8080/"
        },
        "outputId": "ad0e3015-4ef2-4e87-fd18-fc44db9624e5"
      },
      "execution_count": 13,
      "outputs": [
        {
          "output_type": "stream",
          "name": "stdout",
          "text": [
            "[3, 0, 1]\n",
            "[0, 1]\n"
          ]
        }
      ]
    },
    {
      "cell_type": "markdown",
      "source": [
        "# Question 6"
      ],
      "metadata": {
        "id": "bvVcIiK8Lhyh"
      }
    },
    {
      "cell_type": "markdown",
      "source": [
        "Given (x = 1), what will be the value of after we run (x += 2)?"
      ],
      "metadata": {
        "id": "k7j3q05LKBiP"
      }
    },
    {
      "cell_type": "code",
      "source": [
        "x = 1\n",
        "# Your response: 3. \n",
        "x = 1 \n",
        "x +=2\n",
        "print(x)"
      ],
      "metadata": {
        "id": "Gcoj6y_1LqxI",
        "colab": {
          "base_uri": "https://localhost:8080/"
        },
        "outputId": "e01a7b57-5482-47b8-d300-9b94c22ebbf9"
      },
      "execution_count": 16,
      "outputs": [
        {
          "output_type": "stream",
          "name": "stdout",
          "text": [
            "3\n"
          ]
        }
      ]
    },
    {
      "cell_type": "markdown",
      "source": [
        "# Question 7"
      ],
      "metadata": {
        "id": "9SlagdDRMiSQ"
      }
    },
    {
      "cell_type": "markdown",
      "source": [
        "\n",
        "Write a function called rad2deg() that takes an input \"rad_value\" as an argument and converts from radians to degrees."
      ],
      "metadata": {
        "id": "jQ3lXGOBFkvI"
      }
    },
    {
      "cell_type": "code",
      "source": [
        "# Function Definition\n",
        "\n",
        "# Test Input\n",
        "\n",
        "# rad2deg(1) => 57.324840764331206 degrees\n",
        "\n",
        "#define the function \n",
        "def rad2deg(x):\n",
        "  return x * 57.324840764331206 \n",
        "#print results \n",
        "print (rad2deg(3))\n",
        "\n",
        "\n"
      ],
      "metadata": {
        "id": "ld5a2MHffe9o",
        "colab": {
          "base_uri": "https://localhost:8080/"
        },
        "outputId": "03ad3660-7e6f-40fb-caea-48ff1d825c06"
      },
      "execution_count": 55,
      "outputs": [
        {
          "output_type": "stream",
          "name": "stdout",
          "text": [
            "171.9745222929936\n"
          ]
        }
      ]
    },
    {
      "cell_type": "markdown",
      "source": [
        "# Question 8"
      ],
      "metadata": {
        "id": "tLWnrj74OQDD"
      }
    },
    {
      "cell_type": "markdown",
      "source": [
        "What is the difference between 10 / 3 and 10 // 3?\n",
        "\n",
        "What is the result of 10 ** 3?"
      ],
      "metadata": {
        "id": "iiAvFhOaQ8lL"
      }
    },
    {
      "cell_type": "code",
      "source": [
        "10/3\n",
        "10//3\n",
        "\n",
        "# Your response:\n",
        "# 10/3 performs floating numeric division, while 10//3 performs interger division. So 10/3 will return 3.333 repeating and 10//3 will return just 3, or the closest whole number.\n",
        "# 10 ** 3 uses an exponentiation operator. It performs like this: 10*10*10. The result is 1,000. "
      ],
      "metadata": {
        "id": "vpsZWPOiRshp",
        "colab": {
          "base_uri": "https://localhost:8080/"
        },
        "outputId": "9ad5d624-93c3-4c77-ddec-49b045384135"
      },
      "execution_count": 19,
      "outputs": [
        {
          "output_type": "execute_result",
          "data": {
            "text/plain": [
              "3"
            ]
          },
          "metadata": {},
          "execution_count": 19
        }
      ]
    },
    {
      "cell_type": "markdown",
      "source": [
        "# Question 9"
      ],
      "metadata": {
        "id": "xQ6nc6KzRpfl"
      }
    },
    {
      "cell_type": "markdown",
      "source": [
        "Assuming (name = “QMSS 301”), what does name[1] return?\n",
        "\n",
        "What about name[-2]?\n",
        "\n",
        "What about name[1:-1]?"
      ],
      "metadata": {
        "id": "Uxnojjs0SEtQ"
      }
    },
    {
      "cell_type": "code",
      "source": [
        "#Assuming (name = \"QMSS\"), what does name[1] return?\n",
        "name = \"QMSS 301\"\n",
        "# Your response:\n",
        "\n",
        "name = \"QMSS 301\"\n",
        "print(name)\n",
        "print(name[1])\n",
        "#M\n",
        "\n",
        "name = \"QMSS 301\"\n",
        "print(name)\n",
        "print(name[2])\n",
        "#S\n",
        "\n",
        "\n",
        "name = \"QMSS 301\"\n",
        "print(name)\n",
        "print(name[3])\n",
        "#s\n",
        "\n",
        "name = \"QMSS 301\"\n",
        "print(name)\n",
        "print(name[1:-1])\n",
        "#MSS 30\n",
        "\n",
        "\n"
      ],
      "metadata": {
        "id": "u11oKeZjRj-T",
        "colab": {
          "base_uri": "https://localhost:8080/"
        },
        "outputId": "033fc0a0-95fa-4081-f7b9-369709519327"
      },
      "execution_count": 52,
      "outputs": [
        {
          "output_type": "stream",
          "name": "stdout",
          "text": [
            "QMSS 301\n",
            "M\n",
            "QMSS 301\n",
            "S\n",
            "QMSS 301\n",
            "S\n",
            "QMSS 301\n",
            "MSS 30\n"
          ]
        }
      ]
    },
    {
      "cell_type": "markdown",
      "source": [
        "# Question 10"
      ],
      "metadata": {
        "id": "pxvSzy6VVFmu"
      }
    },
    {
      "cell_type": "markdown",
      "source": [
        "US States - Ranked by Population 2023\n",
        "\n",
        "Data Source: https://worldpopulationreview.com/states\n",
        "\n",
        "data_dict = {'California': 39613493, \n",
        "             'Texas': 29730311,\n",
        "             'Illinois': 12569321, \n",
        "             'Pennsylvania': 12804123,\n",
        "              'New York': 19299981, \n",
        "             'Florida': 21944577\n",
        "             }\n",
        "\n",
        "Extract the names (i.e. keys) from the dictionary \"data_dict\" and print them.\n"
      ],
      "metadata": {
        "id": "8MLCHRDLS0WL"
      }
    },
    {
      "cell_type": "code",
      "source": [
        "# US States - Ranked by Population 2023\n",
        "# Data Source: https://worldpopulationreview.com/states\n",
        "data_dict = {'California': 39613493, \n",
        "             'Texas': 29730311,\n",
        "             'Illinois': 12569321, \n",
        "             'Pennsylvania': 12804123,\n",
        "              'New York': 19299981, \n",
        "             'Florida': 21944577\n",
        "             }\n",
        "# Your response:\n",
        "State_Names= list(data_dict.keys())\n",
        "print(State_Names)\n",
        "#['California', 'Texas', 'Illinois', 'Pennsylvania', 'New York', 'Florida']"
      ],
      "metadata": {
        "id": "l_a8QFeHhVGR",
        "colab": {
          "base_uri": "https://localhost:8080/"
        },
        "outputId": "8b37e570-26c3-4857-d9f6-bfa718da3d9e"
      },
      "execution_count": 54,
      "outputs": [
        {
          "output_type": "stream",
          "name": "stdout",
          "text": [
            "['California', 'Texas', 'Illinois', 'Pennsylvania', 'New York', 'Florida']\n"
          ]
        }
      ]
    },
    {
      "cell_type": "markdown",
      "source": [
        "# Bonus Question (Optional)\n",
        "\n",
        "List any five python built-in functions that we discussed in the last lecture."
      ],
      "metadata": {
        "id": "ofOaTN7gias_"
      }
    },
    {
      "cell_type": "code",
      "source": [
        "# Your response:\n",
        "type()\n",
        "print()\n",
        "list()\n",
        "int()\n",
        "len()\n"
      ],
      "metadata": {
        "id": "up_Aq1UdlWt3"
      },
      "execution_count": null,
      "outputs": []
    }
  ]
}