{
  "nbformat": 4,
  "nbformat_minor": 0,
  "metadata": {
    "colab": {
      "provenance": []
    },
    "kernelspec": {
      "name": "python3",
      "display_name": "Python 3"
    },
    "language_info": {
      "name": "python"
    }
  },
  "cells": [
    {
      "cell_type": "markdown",
      "source": [
        "# Question 1"
      ],
      "metadata": {
        "id": "DBbI8UMiFQzA"
      }
    },
    {
      "cell_type": "markdown",
      "source": [
        "You will see pandas methods on the numbered list and have to select the functional description on the A-B-C-D options.\n",
        "\n",
        "\n",
        "import pandas as pd\n",
        "\n",
        "1. df = pd.read_csv(\"qmss301.csv\")\n",
        "2. df.drop()\n",
        "3. df.groupby()\n",
        "4. df.describe()\n",
        "\n",
        "A. drops some unnecessary columns.\n",
        "\n",
        "B. clusters the data as per a certain variable and find out useful information about those clusters for data summarizing.\n",
        "\n",
        "C. provides some basic statistical measures.\n",
        "\n",
        "D. reads a CSV file to a pandas DataFrame format."
      ],
      "metadata": {
        "id": "OEBJYhCNEEz8"
      }
    },
    {
      "cell_type": "code",
      "source": [
        "# Your response:\n",
        "\n",
        "#A. 2. df.drop()\n",
        "#B. 3. df.groupby()\n",
        "#C. 4. df.describe()\n",
        "#D. 1. df = pd.read_csv(\"qmss301.csv\")\n"
      ],
      "metadata": {
        "id": "V51CxTbsEVs7"
      },
      "execution_count": null,
      "outputs": []
    },
    {
      "cell_type": "markdown",
      "source": [
        "# Question 2"
      ],
      "metadata": {
        "id": "BrKJ3hstFeYa"
      }
    },
    {
      "cell_type": "markdown",
      "source": [
        "How will you get the top 3 rows from a DataFrame in pandas\n",
        "\n",
        "import pandas as pd\n",
        "\n",
        "df_data = pd.read_csv('bank-full.csv', sep=';')\n",
        "\n",
        "1. df_data[1:3]\n",
        "2. df_data.tail(3)\n",
        "3. df_data.tail(4)\n",
        "4. df_data.head(3)\n",
        "5. df_data.head(4)\n",
        "6. df_data[0:3]\n",
        "\n",
        "Choose the correct answers."
      ],
      "metadata": {
        "id": "TMJjcgc7Gvus"
      }
    },
    {
      "cell_type": "code",
      "source": [
        "# Your response:\n",
        "\n",
        "#4. df_data.head(3)\n",
        "#6. df_data[0:3]\n"
      ],
      "metadata": {
        "id": "ltTGfHq7HKbx"
      },
      "execution_count": null,
      "outputs": []
    },
    {
      "cell_type": "markdown",
      "source": [
        "# Question 3"
      ],
      "metadata": {
        "id": "LO7x5BS3KYTs"
      }
    },
    {
      "cell_type": "markdown",
      "source": [
        "State whether True or False\n",
        "\n",
        "(a) A Dataframe object is value mutable.\n",
        "\n",
        "(b) Does pandas package have a method to drop null values in a dataframe?\n",
        "\n",
        "Discuss your findings?"
      ],
      "metadata": {
        "id": "Prr8JvqwH6Gb"
      }
    },
    {
      "cell_type": "code",
      "source": [
        "# Your response:\n",
        "\n",
        "#a) True, meaning that a dataframe object can be changed w/o creating a whole new value. \n",
        "#b) Yes. It's called .dropna(), and it can remove any row containing at least one null value. \n"
      ],
      "metadata": {
        "id": "1oBUR_CCPgFP"
      },
      "execution_count": null,
      "outputs": []
    },
    {
      "cell_type": "markdown",
      "source": [
        "# Question 4"
      ],
      "metadata": {
        "id": "bvVcIiK8Lhyh"
      }
    },
    {
      "cell_type": "markdown",
      "source": [
        "Create any plot for the following data and apply at least five different customization options available.\n",
        "\n",
        "xData = [1998, 1999, 2000, 2001, 2002, 2003 2004, 2005]\n",
        "\n",
        "yData = [7, 11, 6, 21, 16, 12, 8, 5]"
      ],
      "metadata": {
        "id": "k7j3q05LKBiP"
      }
    },
    {
      "cell_type": "code",
      "source": [
        "# Your response:\n",
        "\n",
        "import matplotlib.pyplot as plt\n",
        "\n",
        "xData = [1998, 1999, 2000, 2001, 2002, 2003, 2004, 2005]\n",
        "yData = [7, 11, 6, 21, 16, 12, 8, 5]\n",
        "\n",
        "# Create the plot\n",
        "plt.plot(xData, yData)\n",
        "\n",
        "# 1: Add a title\n",
        "plt.title('Line Plot')\n",
        "\n",
        "# 2: Add x and y labels\n",
        "plt.xlabel('Year')\n",
        "plt.ylabel('Value')\n",
        "\n",
        "# 3: Change the marker style and color\n",
        "plt.plot(xData, yData, marker='o', color='red')\n",
        "\n",
        "# 4: Add grid lines\n",
        "plt.grid(True)\n",
        "\n",
        "# 5: Add a legend\n",
        "plt.legend(['Value By Year'])\n",
        "\n",
        "\n",
        "plt.show()"
      ],
      "metadata": {
        "id": "Gcoj6y_1LqxI",
        "colab": {
          "base_uri": "https://localhost:8080/",
          "height": 295
        },
        "outputId": "708ea059-dcf2-4005-e55f-159a41c7fdc7"
      },
      "execution_count": null,
      "outputs": [
        {
          "output_type": "display_data",
          "data": {
            "text/plain": [
              "<Figure size 432x288 with 1 Axes>"
            ],
            "image/png": "[encoded data removed]"
          },
          "metadata": {
            "needs_background": "light"
          }
        }
      ]
    },
    {
      "cell_type": "markdown",
      "source": [
        "# Question 5"
      ],
      "metadata": {
        "id": "9SlagdDRMiSQ"
      }
    },
    {
      "cell_type": "markdown",
      "source": [
        "\n",
        "1. Plot the given data using a line graph.\n",
        "2. Change the color of the line to ‘Red’."
      ],
      "metadata": {
        "id": "jQ3lXGOBFkvI"
      }
    },
    {
      "cell_type": "code",
      "source": [
        "# Given data\n",
        "# Day\t            1\t    2\t    3\t   4\t    5\t    6\t    7\n",
        "\n",
        "# Revenue     \t10000\t 8000\t 5000\t7000\t10000\t3000\t9000\n",
        "\n",
        "# Your response:\n",
        "import matplotlib.pyplot as plt\n",
        "\n",
        "day = [1,2,3,4,5,6,7]\n",
        "revenue = [10000, 8000, 5000, 7000, 10000, 3000, 9000]\n",
        "\n",
        "plt.plot(day, revenue, color = 'red')\n",
        "\n",
        "plt.xlabel('Day')\n",
        "plt.ylabel('Revenue')\n",
        "plt.title('Line Plot of Revenue')\n",
        "plt.show()\n"
      ],
      "metadata": {
        "id": "ld5a2MHffe9o",
        "colab": {
          "base_uri": "https://localhost:8080/",
          "height": 295
        },
        "outputId": "e0b51f18-6fdb-45c9-a803-175de9f71008"
      },
      "execution_count": null,
      "outputs": [
        {
          "output_type": "display_data",
          "data": {
            "text/plain": [
              "<Figure size 432x288 with 1 Axes>"
            ],
            "image/png": "[encoded data removed]"
          },
          "metadata": {
            "needs_background": "light"
          }
        }
      ]
    },
    {
      "cell_type": "markdown",
      "source": [
        "# Bonus Question 1"
      ],
      "metadata": {
        "id": "tLWnrj74OQDD"
      }
    },
    {
      "cell_type": "markdown",
      "source": [
        "Create a 6x6x6 array with random values"
      ],
      "metadata": {
        "id": "iiAvFhOaQ8lL"
      }
    },
    {
      "cell_type": "code",
      "source": [
        "import numpy as np\n",
        "\n",
        "array = np.random.random((6, 6, 6))\n",
        "print(array)"
      ],
      "metadata": {
        "id": "vpsZWPOiRshp",
        "colab": {
          "base_uri": "https://localhost:8080/"
        },
        "outputId": "8a22106f-f0de-4d4e-c812-b7e5342bae5a"
      },
      "execution_count": 15,
      "outputs": [
        {
          "output_type": "stream",
          "name": "stdout",
          "text": [
            "[[[0.97299523 0.21509574 0.22043762 0.05961672 0.49493805 0.3709193 ]\n",
            "  [0.22784984 0.47988016 0.46413976 0.32455826 0.14253181 0.85795132]\n",
            "  [0.11304191 0.72020348 0.27631707 0.75935768 0.85752005 0.37978863]\n",
            "  [0.89899916 0.24418219 0.63298862 0.92332016 0.67125529 0.64258578]\n",
            "  [0.42052745 0.86437959 0.19944502 0.05673947 0.1683154  0.46608706]\n",
            "  [0.9116887  0.24086288 0.9484042  0.5188597  0.01126461 0.60411267]]\n",
            "\n",
            " [[0.6768664  0.49746563 0.70604533 0.47848602 0.81826408 0.14192185]\n",
            "  [0.10127117 0.53212475 0.68221064 0.53717535 0.58491785 0.46912812]\n",
            "  [0.62840234 0.74239911 0.75091298 0.56040985 0.53712728 0.78648585]\n",
            "  [0.60771739 0.29391363 0.03507111 0.40799343 0.80497588 0.7143471 ]\n",
            "  [0.87793499 0.89679509 0.07370188 0.81111054 0.39774385 0.94366521]\n",
            "  [0.23194782 0.06558272 0.34656415 0.88857995 0.05021155 0.87856324]]\n",
            "\n",
            " [[0.53362496 0.8562743  0.08370437 0.02158088 0.2042929  0.0812587 ]\n",
            "  [0.2068878  0.30012372 0.74771555 0.04309119 0.10432487 0.53020658]\n",
            "  [0.29711748 0.41103878 0.15661396 0.35934164 0.17957011 0.59234212]\n",
            "  [0.78086683 0.2054548  0.03297939 0.27932734 0.71287141 0.58031606]\n",
            "  [0.05493379 0.90398212 0.22300297 0.41252409 0.49520186 0.62545986]\n",
            "  [0.93925612 0.71549155 0.96588004 0.63184605 0.10954431 0.91562648]]\n",
            "\n",
            " [[0.57366935 0.88314104 0.41126304 0.8964565  0.75623618 0.66792101]\n",
            "  [0.36347495 0.34012627 0.04737727 0.45814111 0.60042296 0.09818158]\n",
            "  [0.93734008 0.46162496 0.80294517 0.29144073 0.17855917 0.40884574]\n",
            "  [0.32154234 0.55569188 0.31106633 0.65952753 0.47907406 0.80418727]\n",
            "  [0.86065318 0.1331098  0.5145946  0.83383847 0.27556353 0.52730634]\n",
            "  [0.37532212 0.81660634 0.14106065 0.11627068 0.58351417 0.88860932]]\n",
            "\n",
            " [[0.77691767 0.96081107 0.98313662 0.00655763 0.06076528 0.73875411]\n",
            "  [0.32161153 0.12126794 0.6162814  0.1036322  0.91172622 0.19561935]\n",
            "  [0.0609137  0.27041148 0.41540041 0.78499699 0.38685009 0.74660771]\n",
            "  [0.57414705 0.06692987 0.84880495 0.19035898 0.46834065 0.90031723]\n",
            "  [0.97783564 0.69820299 0.81558616 0.4726026  0.49681178 0.93803866]\n",
            "  [0.88109473 0.82402226 0.36672892 0.99311269 0.42179105 0.27895155]]\n",
            "\n",
            " [[0.63538504 0.11935415 0.85417096 0.94234879 0.87660773 0.33051431]\n",
            "  [0.68983166 0.68169475 0.96426536 0.8302579  0.28016876 0.27759508]\n",
            "  [0.45696568 0.60911221 0.14697484 0.31373407 0.87356824 0.13653265]\n",
            "  [0.2703502  0.3990925  0.09500687 0.69655916 0.94378267 0.25486773]\n",
            "  [0.16156476 0.03228341 0.40736937 0.4423983  0.22328467 0.1131656 ]\n",
            "  [0.01276241 0.87502281 0.48560726 0.82680366 0.3411585  0.87317902]]]\n"
          ]
        }
      ]
    },
    {
      "cell_type": "markdown",
      "source": [
        "# Bonus Question 2"
      ],
      "metadata": {
        "id": "pxvSzy6VVFmu"
      }
    },
    {
      "cell_type": "markdown",
      "source": [
        "What is the function of np.where()?\n",
        "\n",
        "Explain your answer with a simple demonstration."
      ],
      "metadata": {
        "id": "8MLCHRDLS0WL"
      }
    },
    {
      "cell_type": "code",
      "source": [
        "# Your response:\n"
      ],
      "metadata": {
        "id": "14JRUHE6F98y"
      },
      "execution_count": null,
      "outputs": []
    }
  ]
}