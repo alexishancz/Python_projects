{
  "cells": [
    {
      "cell_type": "markdown",
      "source": [
        "Submission Details: This homework problem set consists of 3 problems. Use the PDF as a reference for the questions. All solutions (in Python Notebook, **LastName_FirstName_Assignment3.ipynb**) should be submitted via CANVAS before the deadline (**17 Mar 2023 at 5:00 PM**).\n",
        "\n",
        "*Best Coding Practices:*\n",
        "\n",
        "\n",
        "*   Having Proper Comments and Documentation\n",
        "*   Proper Naming of Variables, Classes, Functions and Modules\n"
      ],
      "metadata": {
        "id": "Sr8PMvut_S1b"
      }
    },
    {
      "cell_type": "markdown",
      "source": [
        "# Question 1 (Reddit Web Scraping - 6 points):\n",
        "Complete the following tasks or answer the following questions."
      ],
      "metadata": {
        "id": "mCDs8oSa-RFP"
      }
    },
    {
      "cell_type": "markdown",
      "source": [
        "Write a Python script using PRAW to scrape the top 500 comments from a specific post in the subreddit \"r/socialscience\" and store them in a CSV file. The CSV file should contain the comment ID, author name, comment text, and the number of upvotes received by the comment. **(3 points)**"
      ],
      "metadata": {
        "id": "-YtQYBZCL3Zk"
      }
    },
    {
      "cell_type": "code",
      "execution_count": 12,
      "metadata": {
        "id": "_v4S4nzjekBO",
        "colab": {
          "base_uri": "https://localhost:8080/"
        },
        "outputId": "7a6f09dd-57b8-432c-90dc-9fa716b1c2d4"
      },
      "outputs": [
        {
          "output_type": "stream",
          "name": "stdout",
          "text": [
            "Looking in indexes: https://pypi.org/simple, https://us-python.pkg.dev/colab-wheels/public/simple/\n",
            "Requirement already satisfied: praw in /usr/local/lib/python3.9/dist-packages (7.7.0)\n",
            "Requirement already satisfied: prawcore<3,>=2.1 in /usr/local/lib/python3.9/dist-packages (from praw) (2.3.0)\n",
            "Requirement already satisfied: websocket-client>=0.54.0 in /usr/local/lib/python3.9/dist-packages (from praw) (1.5.1)\n",
            "Requirement already satisfied: update-checker>=0.18 in /usr/local/lib/python3.9/dist-packages (from praw) (0.18.0)\n",
            "Requirement already satisfied: requests<3.0,>=2.6.0 in /usr/local/lib/python3.9/dist-packages (from prawcore<3,>=2.1->praw) (2.27.1)\n",
            "Requirement already satisfied: certifi>=2017.4.17 in /usr/local/lib/python3.9/dist-packages (from requests<3.0,>=2.6.0->prawcore<3,>=2.1->praw) (2022.12.7)\n",
            "Requirement already satisfied: charset-normalizer~=2.0.0 in /usr/local/lib/python3.9/dist-packages (from requests<3.0,>=2.6.0->prawcore<3,>=2.1->praw) (2.0.12)\n",
            "Requirement already satisfied: urllib3<1.27,>=1.21.1 in /usr/local/lib/python3.9/dist-packages (from requests<3.0,>=2.6.0->prawcore<3,>=2.1->praw) (1.26.15)\n",
            "Requirement already satisfied: idna<4,>=2.5 in /usr/local/lib/python3.9/dist-packages (from requests<3.0,>=2.6.0->prawcore<3,>=2.1->praw) (3.4)\n"
          ]
        }
      ],
      "source": [
        "#import packages\n",
        "!pip install praw\n",
        "import requests\n",
        "import pandas as pd\n",
        "import praw"
      ]
    },
    {
      "cell_type": "code",
      "source": [
        "#passing my reddit details \n",
        "reddit = praw.Reddit(client_id=\"1UVcjLahdL12WrZo0xKmOQ\", client_secret=\t\"ARweQibBBqqThq4MHb-5KkLg-2CrOQ\", user_agent=\"Scrapping - 301\") "
      ],
      "metadata": {
        "id": "qZ-eUyNMxjZ6"
      },
      "execution_count": 13,
      "outputs": []
    },
    {
      "cell_type": "code",
      "source": [
        "#creating a post object via URL\n",
        "post = reddit.submission(url='https://www.reddit.com/r/socialscience/comments/xeweyf/us_is_becoming_a_developing_country_on_global/')"
      ],
      "metadata": {
        "id": "tBxQvhPHR4Hl"
      },
      "execution_count": 14,
      "outputs": []
    },
    {
      "cell_type": "code",
      "source": [
        "#NOTE: As discussed on Piazza, I was not able to find a post with more than 500 comments.\n",
        "#I found a post with 135 comments and my code here is intended to extract the top comments. \n",
        "\n",
        "#initialize an empty list to store comment details\n",
        "comment_details = []\n",
        "\n",
        "#iterate over all comments and their replies (comments within comments) and extract relevant information\n",
        "for comment in post.comments:\n",
        "    comment_details.append([comment.id, comment.ups, comment.body, comment.name])\n",
        "    for reply in comment.replies:\n",
        "        comment_details.append([reply.id, reply.ups, reply.body, reply.name])\n",
        "\n",
        "#convert the comment details list to a pandas DataFrame\n",
        "comment_details_df = pd.DataFrame(comment_details, columns=['id', 'ups', 'body', 'author'])\n",
        "\n",
        "#sort the comments and replies by score in descending order\n",
        "comment_details_df_sorted = comment_details_df.sort_values(by='ups', ascending=False)\n",
        "\n",
        "#select the top comments and save to CSV\n",
        "comment_details_df_sorted.head(100).to_csv('top_comments.csv', index=False)\n",
        "\n",
        "print(comment_details_df)"
      ],
      "metadata": {
        "colab": {
          "base_uri": "https://localhost:8080/"
        },
        "id": "mPacwJGdQGXX",
        "outputId": "be84c16f-6068-4d7f-efab-a2dd45cc3b17"
      },
      "execution_count": 15,
      "outputs": [
        {
          "output_type": "stream",
          "name": "stderr",
          "text": [
            "WARNING:praw:It appears that you are using PRAW in an asynchronous environment.\n",
            "It is strongly recommended to use Async PRAW: https://asyncpraw.readthedocs.io.\n",
            "See https://praw.readthedocs.io/en/latest/getting_started/multiple_instances.html#discord-bots-and-asynchronous-environments for more info.\n",
            "\n"
          ]
        },
        {
          "output_type": "stream",
          "name": "stdout",
          "text": [
            "         id  ups                                               body  \\\n",
            "0   ioj3p2e   16                                       Not a shock.   \n",
            "1   iomrqyd   -6  Indeed. \\n\\nIt isn't shocking that the UN appa...   \n",
            "2   iokj2c0    6  Lol, we're sliding backwards in the ranks. So ...   \n",
            "3   ioj8jmf   25  That trickle down economics is gonna kick in ,...   \n",
            "4   iollezj    8  Don't forget to cut benefits to the poor! \\n\\n...   \n",
            "5   iojvqdk    7                        Widen the income gap maybe?   \n",
            "6   iomawn3   -2  No no what we need is more socialism! That’ll ...   \n",
            "7   iokp222    4  I feel like \"collapsing/failing empire\" should...   \n",
            "8   ioj6s2d    5  They have been influenced by misinformation an...   \n",
            "9   iojrcib    6  We already know who it is, it's the same peopl...   \n",
            "10  iomqxap    1  What did they do, read this article or something?   \n",
            "11  iokokt2    2  This is the best tl;dr I could make, [original...   \n",
            "12  iokerjn    2                                          [deleted]   \n",
            "13  iokqmti    4  Not really. Because the US actually more like ...   \n",
            "14  iolymjt    1          Well this will be one of the “3rd” world.   \n",
            "15  iokafgh    3  US was almost a new Nazi republic, thank Scien...   \n",
            "16  iolza8g   -1      “Thank science”\\nWhat. A. Fucking. Loser. LOL   \n",
            "17  iokeljq   -7  Lmfao Jesus Christ . Either you’re a smart rac...   \n",
            "18  iokv0i6   -2                                 Your joking right?   \n",
            "19  iolhafz   -1                       This sounds like satire lmao   \n",
            "20  iolz8k0    0               What are you on about? Imagine much?   \n",
            "21  iokw718    1  Yep, slave time morality is alive in the USA. ...   \n",
            "22  iokyfxp    1       With the Democrats in charge?\\n\\nUnpossible.   \n",
            "23  iol4341    1                       I just want fucking die now.   \n",
            "24  ioldjju    1                          America sucks! Go Russia.   \n",
            "25  iollemz    1  Life in the U.S. isn't good for anyone coming ...   \n",
            "26  iolm4nq    1  I have been noticing these. Reddit has become ...   \n",
            "27  iolqou5    1  No health care\\nNo affordable education       ...   \n",
            "28  iolw8kl    1                             We need more taxes lol   \n",
            "29  iolwops    1                        Least braindead reddit take   \n",
            "30  iolz4ut    1  Ridiculous standards. You can tell me about de...   \n",
            "31  iom3r6l    1  Ahhh American exceptionalism. We are so good a...   \n",
            "32  iomtb8q    1  The decline has never been more evident than t...   \n",
            "33  iomw5ci    1  are you really \"developing\" if you are going b...   \n",
            "34  ionhfd5    1  I think we need a new term, like undeveloping ...   \n",
            "35  iot3j49    1  That article reads like a big \"Republicans bad...   \n",
            "36  ip2dvif    1  Wow...I can't believe a developing country fun...   \n",
            "37  ioj4b9a   -8  And certainly there are no biases or political...   \n",
            "38  ioj6mg4    2  Damn you beat me to it! It's insane the amount...   \n",
            "39  iok6shp    1  Said a whole lot of nothing other than “they j...   \n",
            "40  iok362q    0  The UN applying a measurement framework. You k...   \n",
            "41  iok2kag   -1  Who really believes this crap headline?\\n\\nWe ...   \n",
            "42  iok3fqk    2  Regardless of whether the headline is any good...   \n",
            "43  iompatz    1  Where did you get those numbers? When the pric...   \n",
            "44  iokihif   -1                 According to who exactly? Britain?   \n",
            "45  ioltht3    0  Because of illegals and the problems they brin...   \n",
            "46  iomoqj5    2  Lmao I hope you’re trolling. If you seriously ...   \n",
            "\n",
            "        author  \n",
            "0   t1_ioj3p2e  \n",
            "1   t1_iomrqyd  \n",
            "2   t1_iokj2c0  \n",
            "3   t1_ioj8jmf  \n",
            "4   t1_iollezj  \n",
            "5   t1_iojvqdk  \n",
            "6   t1_iomawn3  \n",
            "7   t1_iokp222  \n",
            "8   t1_ioj6s2d  \n",
            "9   t1_iojrcib  \n",
            "10  t1_iomqxap  \n",
            "11  t1_iokokt2  \n",
            "12  t1_iokerjn  \n",
            "13  t1_iokqmti  \n",
            "14  t1_iolymjt  \n",
            "15  t1_iokafgh  \n",
            "16  t1_iolza8g  \n",
            "17  t1_iokeljq  \n",
            "18  t1_iokv0i6  \n",
            "19  t1_iolhafz  \n",
            "20  t1_iolz8k0  \n",
            "21  t1_iokw718  \n",
            "22  t1_iokyfxp  \n",
            "23  t1_iol4341  \n",
            "24  t1_ioldjju  \n",
            "25  t1_iollemz  \n",
            "26  t1_iolm4nq  \n",
            "27  t1_iolqou5  \n",
            "28  t1_iolw8kl  \n",
            "29  t1_iolwops  \n",
            "30  t1_iolz4ut  \n",
            "31  t1_iom3r6l  \n",
            "32  t1_iomtb8q  \n",
            "33  t1_iomw5ci  \n",
            "34  t1_ionhfd5  \n",
            "35  t1_iot3j49  \n",
            "36  t1_ip2dvif  \n",
            "37  t1_ioj4b9a  \n",
            "38  t1_ioj6mg4  \n",
            "39  t1_iok6shp  \n",
            "40  t1_iok362q  \n",
            "41  t1_iok2kag  \n",
            "42  t1_iok3fqk  \n",
            "43  t1_iompatz  \n",
            "44  t1_iokihif  \n",
            "45  t1_ioltht3  \n",
            "46  t1_iomoqj5  \n"
          ]
        }
      ]
    },
    {
      "cell_type": "markdown",
      "source": [
        "Write a Python script using PRAW to scrape the top 100 posts from the subreddit \"r/askscience\" and print their titles, URLs, and scores. **(3 points)**"
      ],
      "metadata": {
        "id": "UL7Na_neMB1r"
      }
    },
    {
      "cell_type": "code",
      "source": [
        "reddit = praw.Reddit(client_id='Wc3c-_BxjrU0uVOhAlRZsA', client_secret='ziFeetWMoV8ILNOLTr_B_c6c4sxXkA', user_agent='Scraping - QMSS 301')\n",
        "\n",
        "science_data = reddit.subreddit('askscience')    # Now we have our subreddit data in the name 'gw_sub_data'\n",
        "# https://www.reddit.com/r/askscience/top/?t=year"
      ],
      "metadata": {
        "id": "FKhKr2rg1Tg-"
      },
      "execution_count": 8,
      "outputs": []
    },
    {
      "cell_type": "code",
      "source": [
        "import pandas as pd\n",
        "import numpy as np\n",
        "top_posts_details = []                          #create an empty list\n",
        "top_science_posts = science_data.top(limit=100)     #get the top 100 hot posts \n",
        "for post in top_science_posts:                    #initiate a for-loop\n",
        "    top_posts_details.append([post.title, post.score, post.url]) #append each detail to the empty list\n",
        "top_posts_details = pd.DataFrame(top_posts_details,columns=['title', 'score', 'url']) #convert to dataframe and name the columns\n",
        "print(top_posts_details)"
      ],
      "metadata": {
        "id": "bR8p8yt5MIyT",
        "colab": {
          "base_uri": "https://localhost:8080/"
        },
        "outputId": "59e286c9-edc0-4c88-b64f-2a680b5b1561"
      },
      "execution_count": 9,
      "outputs": [
        {
          "output_type": "stream",
          "name": "stderr",
          "text": [
            "WARNING:praw:It appears that you are using PRAW in an asynchronous environment.\n",
            "It is strongly recommended to use Async PRAW: https://asyncpraw.readthedocs.io.\n",
            "See https://praw.readthedocs.io/en/latest/getting_started/multiple_instances.html#discord-bots-and-asynchronous-environments for more info.\n",
            "\n"
          ]
        },
        {
          "output_type": "stream",
          "name": "stdout",
          "text": [
            "                                                title  score  \\\n",
            "0                   Help us fight for net neutrality!  83382   \n",
            "1                          Stephen Hawking megathread  65829   \n",
            "2                                  Black Lives Matter  51925   \n",
            "3                              A message to our users  39297   \n",
            "4   Why is it that during winter it's not uncommon...  37674   \n",
            "..                                                ...    ...   \n",
            "95  What is the bottom of the Sahara desert like? ...  14921   \n",
            "96  How does a computer network like HBO's handle ...  14855   \n",
            "97  Why doesn't modern healthcare protocol include...  14801   \n",
            "98  If doctors can fit babies with prescription ey...  14787   \n",
            "99  Numerically there have been more deaths from t...  14712   \n",
            "\n",
            "                                                  url  \n",
            "0   https://www.reddit.com/r/askscience/comments/7...  \n",
            "1   https://www.reddit.com/r/askscience/comments/8...  \n",
            "2   https://www.reddit.com/r/askscience/comments/g...  \n",
            "3   https://www.reddit.com/r/askscience/comments/3...  \n",
            "4   https://www.reddit.com/r/askscience/comments/7...  \n",
            "..                                                ...  \n",
            "95  https://www.reddit.com/r/askscience/comments/9...  \n",
            "96  https://www.reddit.com/r/askscience/comments/6...  \n",
            "97  https://www.reddit.com/r/askscience/comments/w...  \n",
            "98  https://www.reddit.com/r/askscience/comments/7...  \n",
            "99  https://www.reddit.com/r/askscience/comments/f...  \n",
            "\n",
            "[100 rows x 3 columns]\n"
          ]
        }
      ]
    },
    {
      "cell_type": "markdown",
      "source": [
        "# Question 2 (Exploratory Data Analysis on Reddit Data - 7 points): \n",
        "\n",
        "Using the RedditData.csv (provided in the lab assignments folder), complete the following tasks."
      ],
      "metadata": {
        "id": "-rzzwTyn-Ht8"
      }
    },
    {
      "cell_type": "markdown",
      "source": [
        "Load the Reddit Data csv file into a pandas dataframe and extract the column containing the score (i.e. the ratio of likes and dislikes). Generate a histogram of the score distribution and describe the shape of the distribution. **(3 points)**"
      ],
      "metadata": {
        "id": "5-y0HOvVNJVd"
      }
    },
    {
      "cell_type": "code",
      "source": [
        "#import necessary packages \n",
        "import numpy as np \n",
        "import pandas as pd \n",
        "import matplotlib.pyplot as plt \n",
        "import seaborn as sns\n",
        "%matplotlib inline\n",
        "import warnings\n",
        "warnings.filterwarnings('ignore')"
      ],
      "metadata": {
        "id": "7NAq3dsln_1s"
      },
      "execution_count": 16,
      "outputs": []
    },
    {
      "cell_type": "code",
      "source": [
        "#load csv file into a pandas dataframe and dropping nulls\n",
        "data = pd.read_csv('RedditData.csv').dropna()"
      ],
      "metadata": {
        "id": "yI1fJzMoI7IR"
      },
      "execution_count": 17,
      "outputs": []
    },
    {
      "cell_type": "code",
      "source": [
        "#extract score column from the DataFrame\n",
        "score = data['score']\n",
        "\n",
        "#print column\n",
        "print(score)"
      ],
      "metadata": {
        "id": "DE20CxhfI9DD",
        "colab": {
          "base_uri": "https://localhost:8080/"
        },
        "outputId": "8721fe14-c10d-4e30-c511-f5c2409503a3"
      },
      "execution_count": 18,
      "outputs": [
        {
          "output_type": "stream",
          "name": "stdout",
          "text": [
            "2          0\n",
            "6        317\n",
            "7        405\n",
            "10       222\n",
            "12         0\n",
            "        ... \n",
            "53181    156\n",
            "53182    238\n",
            "53183    228\n",
            "53185    338\n",
            "53186     40\n",
            "Name: score, Length: 24738, dtype: int64\n"
          ]
        }
      ]
    },
    {
      "cell_type": "code",
      "source": [
        "#create a historgram of score column using matplotlib \n",
        "\n",
        "#set bin limit to 350000\n",
        "bin_limit = 350000\n",
        "#histogram of score distribution with 30 bins\n",
        "plt.hist(score, bins=5, range=(0, bin_limit))\n",
        "plt.xlabel('Score')\n",
        "plt.ylabel('Frequency')\n",
        "plt.title('Reddit Post Score Distribution')\n",
        "plt.show()\n",
        "\n",
        "#The histogram plot shows that the vast majority of Reddit posts have a score of less than 50,000 (right skew). The frequency of posts decreases significantly as the score increases, with very few posts having a score greater than 75,000.\n",
        "#The distribution suggests it is difficult to achieve a high score on Reddit. \n",
        "#The histogram has a very thin tail, meaning an extremely small amount of Reddit posts score more than 75,000. \n"
      ],
      "metadata": {
        "id": "Xfy4RnrcI84-",
        "colab": {
          "base_uri": "https://localhost:8080/",
          "height": 295
        },
        "outputId": "9db560c0-2e25-4279-c20e-3c0987316730"
      },
      "execution_count": 25,
      "outputs": [
        {
          "output_type": "display_data",
          "data": {
            "text/plain": [
              "<Figure size 432x288 with 1 Axes>"
            ],
            "image/png": "[encoded data removed]"
          },
          "metadata": {
            "needs_background": "light"
          }
        }
      ]
    },
    {
      "cell_type": "markdown",
      "metadata": {
        "id": "wkdJybaUJ-DA"
      },
      "source": [
        "Create a scatter plot using the matplotlib library, with the score on the x-axis and the number of comments on the y-axis. Add a trend line to the plot to visualize the relationship between scores and the number of comments and discuss your findings. **(4 points)**"
      ]
    },
    {
      "cell_type": "code",
      "execution_count": 26,
      "metadata": {
        "id": "zNRx6hS5VHcn",
        "colab": {
          "base_uri": "https://localhost:8080/",
          "height": 295
        },
        "outputId": "499cdef1-9fd9-40cb-e597-78a460e1a84e"
      },
      "outputs": [
        {
          "output_type": "display_data",
          "data": {
            "text/plain": [
              "<Figure size 432x288 with 1 Axes>"
            ],
            "image/png": "[encoded data removed]"
          },
          "metadata": {
            "needs_background": "light"
          }
        }
      ],
      "source": [
        "#get the score and number of comments columns from the DataFrame\n",
        "score = data['score']\n",
        "comments = data['comms_num']\n",
        "\n",
        "#create scatter plot\n",
        "plt.scatter(score, comments)\n",
        "plt.xlabel('Score')\n",
        "plt.ylabel('Number of Comments')\n",
        "plt.title('Reddit Post Score vs. Number of Comments')\n",
        "\n",
        "#calculate and add the trend line\n",
        "z = np.polyfit(score, comments, 1)\n",
        "p = np.poly1d(z)\n",
        "plt.plot(score, p(score), \"r--\")\n",
        "\n",
        "#show the plot\n",
        "plt.show()\n",
        "\n",
        "#Based on the scatter plot and the trend line, there is a very weak positive correlation between the post score and the number of comments it receives.\n",
        "#So as the score of a post increases, the number of comments it receives also tends to increase.\n",
        "#The trend line shows a moderate slope, indicating that for every increase in score, there is a moderate increase in the number of comments. \n",
        "#There are many data points that fall far away from the trend line, meaning there may be other factors that influence the number of comments on a post."
      ]
    },
    {
      "cell_type": "markdown",
      "source": [
        "# Question 3 (Exploratory Data Analysis on Twitter Data - 7 points): \n",
        "\n",
        "Using TwitterData.csv (provided in the lab assignments folder), complete the following tasks. You will likely need to consult the pandas library documentation.\n"
      ],
      "metadata": {
        "id": "5HL6wR5rIkqM"
      }
    },
    {
      "cell_type": "markdown",
      "source": [
        "Create a new dataframe using pandas that only contains the rows where the user's location column contains the word 'USA'. Group the resulting dataframe by state and calculate the total number of retweets for Top 5 states. Visualize the results using any plot. **(4 points)**"
      ],
      "metadata": {
        "id": "XtOrUIIIIvv0"
      }
    },
    {
      "cell_type": "code",
      "source": [
        "#------------------------Helper Code-------------------\n",
        "import pandas as pd\n",
        "\n",
        "#load the Twitter Data csv file into a pandas dataframe\n",
        "twitter_df = pd.read_csv('TwitterData.csv')\n",
        "#dropping null values\n",
        "twitter_df.dropna(inplace=True)\n",
        "#filtering for USA\n",
        "filtered_df = twitter_df[twitter_df['user_location'].str.contains(', USA')]\n",
        "\n",
        "filtered_df.head()"
      ],
      "metadata": {
        "id": "8oEpaDrCI0oM",
        "colab": {
          "base_uri": "https://localhost:8080/",
          "height": 531
        },
        "outputId": "f9db7f7d-3276-41bc-f0cd-cb32b72a674c"
      },
      "execution_count": 27,
      "outputs": [
        {
          "output_type": "execute_result",
          "data": {
            "text/plain": [
              "                     id         user_name             user_location  \\\n",
              "57  1338612922600333315     Kris LaGrange  LI, NYC, NJ, PA, NE, USA   \n",
              "79  1338572466898100224           AcceGen           New Jersey, USA   \n",
              "84  1338565957866778624  Genevieve Reaume               Oregon, USA   \n",
              "86  1338565238082265089  Genevieve Reaume               Oregon, USA   \n",
              "89  1338557609540894720         Next Shot           California, USA   \n",
              "\n",
              "                                     user_description         user_created  \\\n",
              "57  UCOMM Blog aggregates activist news you can us...  2011-01-27 21:42:20   \n",
              "79  AcceGen developed significant expertise in cel...  2017-08-28 07:03:43   \n",
              "84  Emmy-award winning @KATUnews reporter • shooti...  2015-06-22 18:41:01   \n",
              "86  Emmy-award winning @KATUnews reporter • shooti...  2015-06-22 18:41:01   \n",
              "89  Too busy to read news? We got you covered. Nex...  2020-11-13 07:28:48   \n",
              "\n",
              "    user_followers  user_friends  user_favourites  user_verified  \\\n",
              "57           24686          6077             2994          False   \n",
              "79              12            63               19          False   \n",
              "84            4276          1704             5877           True   \n",
              "86            4276          1704             5877           True   \n",
              "89              18            37               38          False   \n",
              "\n",
              "                   date                                               text  \\\n",
              "57  2020-12-14 22:32:45  Members of the @teamsters delivered the first ...   \n",
              "79  2020-12-14 19:52:00  How the #PfizerBioNTech Vaccine Works?\\nThis a...   \n",
              "84  2020-12-14 19:26:08  The state is supposed to get 35,100 doses tota...   \n",
              "86  2020-12-14 19:23:16  #BREAKING - just in from @OHAOregon on #COVID1...   \n",
              "89  2020-12-14 18:52:57  Canadian PM Justin Trudeau announced the arriv...   \n",
              "\n",
              "                                             hashtags               source  \\\n",
              "57  ['COVID19Vaccine', 'teamsters', 'UPS', 'COVID1...      Twitter Web App   \n",
              "79                      ['PfizerBioNTech', 'COVID19']      Twitter Web App   \n",
              "84                                 ['PfizerBioNTech']      Twitter Web App   \n",
              "86                 ['BREAKING', 'COVID19', 'vaccine']      Twitter Web App   \n",
              "89                     ['BioNTech', 'PfizerBioNTech']  Twitter for Android   \n",
              "\n",
              "    retweets  favorites  is_retweet  \n",
              "57         8         18       False  \n",
              "79         0          0       False  \n",
              "84         0          0       False  \n",
              "86         1          6       False  \n",
              "89         0          0       False  "
            ],
            "text/html": [
              "\n",
              "  <div id=\"df-ece9ae76-349e-4fa9-b3d4-550a6f0ec79b\">\n",
              "    <div class=\"colab-df-container\">\n",
              "      <div>\n",
              "<style scoped>\n",
              "    .dataframe tbody tr th:only-of-type {\n",
              "        vertical-align: middle;\n",
              "    }\n",
              "\n",
              "    .dataframe tbody tr th {\n",
              "        vertical-align: top;\n",
              "    }\n",
              "\n",
              "    .dataframe thead th {\n",
              "        text-align: right;\n",
              "    }\n",
              "</style>\n",
              "<table border=\"1\" class=\"dataframe\">\n",
              "  <thead>\n",
              "    <tr style=\"text-align: right;\">\n",
              "      <th></th>\n",
              "      <th>id</th>\n",
              "      <th>user_name</th>\n",
              "      <th>user_location</th>\n",
              "      <th>user_description</th>\n",
              "      <th>user_created</th>\n",
              "      <th>user_followers</th>\n",
              "      <th>user_friends</th>\n",
              "      <th>user_favourites</th>\n",
              "      <th>user_verified</th>\n",
              "      <th>date</th>\n",
              "      <th>text</th>\n",
              "      <th>hashtags</th>\n",
              "      <th>source</th>\n",
              "      <th>retweets</th>\n",
              "      <th>favorites</th>\n",
              "      <th>is_retweet</th>\n",
              "    </tr>\n",
              "  </thead>\n",
              "  <tbody>\n",
              "    <tr>\n",
              "      <th>57</th>\n",
              "      <td>1338612922600333315</td>\n",
              "      <td>Kris LaGrange</td>\n",
              "      <td>LI, NYC, NJ, PA, NE, USA</td>\n",
              "      <td>UCOMM Blog aggregates activist news you can us...</td>\n",
              "      <td>2011-01-27 21:42:20</td>\n",
              "      <td>24686</td>\n",
              "      <td>6077</td>\n",
              "      <td>2994</td>\n",
              "      <td>False</td>\n",
              "      <td>2020-12-14 22:32:45</td>\n",
              "      <td>Members of the @teamsters delivered the first ...</td>\n",
              "      <td>['COVID19Vaccine', 'teamsters', 'UPS', 'COVID1...</td>\n",
              "      <td>Twitter Web App</td>\n",
              "      <td>8</td>\n",
              "      <td>18</td>\n",
              "      <td>False</td>\n",
              "    </tr>\n",
              "    <tr>\n",
              "      <th>79</th>\n",
              "      <td>1338572466898100224</td>\n",
              "      <td>AcceGen</td>\n",
              "      <td>New Jersey, USA</td>\n",
              "      <td>AcceGen developed significant expertise in cel...</td>\n",
              "      <td>2017-08-28 07:03:43</td>\n",
              "      <td>12</td>\n",
              "      <td>63</td>\n",
              "      <td>19</td>\n",
              "      <td>False</td>\n",
              "      <td>2020-12-14 19:52:00</td>\n",
              "      <td>How the #PfizerBioNTech Vaccine Works?\\nThis a...</td>\n",
              "      <td>['PfizerBioNTech', 'COVID19']</td>\n",
              "      <td>Twitter Web App</td>\n",
              "      <td>0</td>\n",
              "      <td>0</td>\n",
              "      <td>False</td>\n",
              "    </tr>\n",
              "    <tr>\n",
              "      <th>84</th>\n",
              "      <td>1338565957866778624</td>\n",
              "      <td>Genevieve Reaume</td>\n",
              "      <td>Oregon, USA</td>\n",
              "      <td>Emmy-award winning @KATUnews reporter • shooti...</td>\n",
              "      <td>2015-06-22 18:41:01</td>\n",
              "      <td>4276</td>\n",
              "      <td>1704</td>\n",
              "      <td>5877</td>\n",
              "      <td>True</td>\n",
              "      <td>2020-12-14 19:26:08</td>\n",
              "      <td>The state is supposed to get 35,100 doses tota...</td>\n",
              "      <td>['PfizerBioNTech']</td>\n",
              "      <td>Twitter Web App</td>\n",
              "      <td>0</td>\n",
              "      <td>0</td>\n",
              "      <td>False</td>\n",
              "    </tr>\n",
              "    <tr>\n",
              "      <th>86</th>\n",
              "      <td>1338565238082265089</td>\n",
              "      <td>Genevieve Reaume</td>\n",
              "      <td>Oregon, USA</td>\n",
              "      <td>Emmy-award winning @KATUnews reporter • shooti...</td>\n",
              "      <td>2015-06-22 18:41:01</td>\n",
              "      <td>4276</td>\n",
              "      <td>1704</td>\n",
              "      <td>5877</td>\n",
              "      <td>True</td>\n",
              "      <td>2020-12-14 19:23:16</td>\n",
              "      <td>#BREAKING - just in from @OHAOregon on #COVID1...</td>\n",
              "      <td>['BREAKING', 'COVID19', 'vaccine']</td>\n",
              "      <td>Twitter Web App</td>\n",
              "      <td>1</td>\n",
              "      <td>6</td>\n",
              "      <td>False</td>\n",
              "    </tr>\n",
              "    <tr>\n",
              "      <th>89</th>\n",
              "      <td>1338557609540894720</td>\n",
              "      <td>Next Shot</td>\n",
              "      <td>California, USA</td>\n",
              "      <td>Too busy to read news? We got you covered. Nex...</td>\n",
              "      <td>2020-11-13 07:28:48</td>\n",
              "      <td>18</td>\n",
              "      <td>37</td>\n",
              "      <td>38</td>\n",
              "      <td>False</td>\n",
              "      <td>2020-12-14 18:52:57</td>\n",
              "      <td>Canadian PM Justin Trudeau announced the arriv...</td>\n",
              "      <td>['BioNTech', 'PfizerBioNTech']</td>\n",
              "      <td>Twitter for Android</td>\n",
              "      <td>0</td>\n",
              "      <td>0</td>\n",
              "      <td>False</td>\n",
              "    </tr>\n",
              "  </tbody>\n",
              "</table>\n",
              "</div>\n",
              "      <button class=\"colab-df-convert\" onclick=\"convertToInteractive('df-ece9ae76-349e-4fa9-b3d4-550a6f0ec79b')\"\n",
              "              title=\"Convert this dataframe to an interactive table.\"\n",
              "              style=\"display:none;\">\n",
              "        \n",
              "  <svg xmlns=\"http://www.w3.org/2000/svg\" height=\"24px\"viewBox=\"0 0 24 24\"\n",
              "       width=\"24px\">\n",
              "    <path d=\"M0 0h24v24H0V0z\" fill=\"none\"/>\n",
              "    <path d=\"M18.56 5.44l.94 2.06.94-2.06 2.06-.94-2.06-.94-.94-2.06-.94 2.06-2.06.94zm-11 1L8.5 8.5l.94-2.06 2.06-.94-2.06-.94L8.5 2.5l-.94 2.06-2.06.94zm10 10l.94 2.06.94-2.06 2.06-.94-2.06-.94-.94-2.06-.94 2.06-2.06.94z\"/><path d=\"M17.41 7.96l-1.37-1.37c-.4-.4-.92-.59-1.43-.59-.52 0-1.04.2-1.43.59L10.3 9.45l-7.72 7.72c-.78.78-.78 2.05 0 2.83L4 21.41c.39.39.9.59 1.41.59.51 0 1.02-.2 1.41-.59l7.78-7.78 2.81-2.81c.8-.78.8-2.07 0-2.86zM5.41 20L4 18.59l7.72-7.72 1.47 1.35L5.41 20z\"/>\n",
              "  </svg>\n",
              "      </button>\n",
              "      \n",
              "  <style>\n",
              "    .colab-df-container {\n",
              "      display:flex;\n",
              "      flex-wrap:wrap;\n",
              "      gap: 12px;\n",
              "    }\n",
              "\n",
              "    .colab-df-convert {\n",
              "      background-color: #E8F0FE;\n",
              "      border: none;\n",
              "      border-radius: 50%;\n",
              "      cursor: pointer;\n",
              "      display: none;\n",
              "      fill: #1967D2;\n",
              "      height: 32px;\n",
              "      padding: 0 0 0 0;\n",
              "      width: 32px;\n",
              "    }\n",
              "\n",
              "    .colab-df-convert:hover {\n",
              "      background-color: #E2EBFA;\n",
              "      box-shadow: 0px 1px 2px rgba(60, 64, 67, 0.3), 0px 1px 3px 1px rgba(60, 64, 67, 0.15);\n",
              "      fill: #174EA6;\n",
              "    }\n",
              "\n",
              "    [theme=dark] .colab-df-convert {\n",
              "      background-color: #3B4455;\n",
              "      fill: #D2E3FC;\n",
              "    }\n",
              "\n",
              "    [theme=dark] .colab-df-convert:hover {\n",
              "      background-color: #434B5C;\n",
              "      box-shadow: 0px 1px 3px 1px rgba(0, 0, 0, 0.15);\n",
              "      filter: drop-shadow(0px 1px 2px rgba(0, 0, 0, 0.3));\n",
              "      fill: #FFFFFF;\n",
              "    }\n",
              "  </style>\n",
              "\n",
              "      <script>\n",
              "        const buttonEl =\n",
              "          document.querySelector('#df-ece9ae76-349e-4fa9-b3d4-550a6f0ec79b button.colab-df-convert');\n",
              "        buttonEl.style.display =\n",
              "          google.colab.kernel.accessAllowed ? 'block' : 'none';\n",
              "\n",
              "        async function convertToInteractive(key) {\n",
              "          const element = document.querySelector('#df-ece9ae76-349e-4fa9-b3d4-550a6f0ec79b');\n",
              "          const dataTable =\n",
              "            await google.colab.kernel.invokeFunction('convertToInteractive',\n",
              "                                                     [key], {});\n",
              "          if (!dataTable) return;\n",
              "\n",
              "          const docLinkHtml = 'Like what you see? Visit the ' +\n",
              "            '<a target=\"_blank\" href=https://colab.research.google.com/notebooks/data_table.ipynb>data table notebook</a>'\n",
              "            + ' to learn more about interactive tables.';\n",
              "          element.innerHTML = '';\n",
              "          dataTable['output_type'] = 'display_data';\n",
              "          await google.colab.output.renderOutput(dataTable, element);\n",
              "          const docLink = document.createElement('div');\n",
              "          docLink.innerHTML = docLinkHtml;\n",
              "          element.appendChild(docLink);\n",
              "        }\n",
              "      </script>\n",
              "    </div>\n",
              "  </div>\n",
              "  "
            ]
          },
          "metadata": {},
          "execution_count": 27
        }
      ]
    },
    {
      "cell_type": "code",
      "source": [
        "#create a new dataframe with only rows where the user's location column contains the word 'USA'\n",
        "twitter_df = filtered_df[filtered_df['user_location'].str.contains('USA')]"
      ],
      "metadata": {
        "id": "6Jpm-BXUUZ_z"
      },
      "execution_count": 28,
      "outputs": []
    },
    {
      "cell_type": "code",
      "source": [
        "import re\n",
        "\n",
        "# Define a regular expression to match US state names\n",
        "state_regex = re.compile(r\"\\b(alabama|alaska|arizona|arkansas|california|colorado|connecticut|delaware|florida|georgia|hawaii|idaho|illinois|indiana|iowa|kansas|kentucky|louisiana|maine|maryland|massachusetts|michigan|minnesota|mississippi|missouri|montana|nebraska|nevada|new hampshire|new jersey|new mexico|new york|north carolina|north dakota|ohio|oklahoma|oregon|pennsylvania|rhode island|south carolina|south dakota|tennessee|texas|utah|vermont|virginia|washington|west virginia|wisconsin|wyoming)\\b\")\n",
        "\n",
        "# Define a function to extract the state from a location string\n",
        "def extract_state(location):\n",
        "    location = location.lower()\n",
        "    match = state_regex.search(location)\n",
        "    if match:\n",
        "        return match.group(1)\n",
        "    else:\n",
        "        return None\n",
        "\n",
        "# Apply the extract_state function to the user_location column of the dataframe\n",
        "filtered_df[\"state\"] = filtered_df[\"user_location\"].apply(extract_state)\n",
        "\n",
        "# Filter out rows where the state is not found\n",
        "filtered_df = filtered_df[filtered_df[\"state\"].isin(['alabama', 'alaska', 'arizona', 'arkansas', 'california', 'colorado', 'connecticut', 'delaware', 'florida', 'georgia', 'hawaii', 'idaho', 'illinois', 'indiana', 'iowa', 'kansas', 'kentucky', 'louisiana', 'maine', 'maryland', 'massachusetts', 'michigan', 'minnesota', 'mississippi', 'missouri', 'montana', 'nebraska', 'nevada', 'new hampshire', 'new jersey', 'new mexico', 'new york', 'north carolina', 'north dakota', 'ohio', 'oklahoma', 'oregon', 'pennsylvania', 'rhode island', 'south carolina', 'south dakota', 'tennessee', 'texas', 'utah', 'vermont', 'virginia', 'washington', 'west virginia', 'wisconsin', 'wyoming'])]\n",
        "\n",
        "# Print the resulting dataframe with just the state column\n",
        "print(filtered_df[\"state\"])\n"
      ],
      "metadata": {
        "colab": {
          "base_uri": "https://localhost:8080/"
        },
        "id": "Hz7bfNY75_2Z",
        "outputId": "b81bc224-873e-4b3b-af8b-f4a67accf42a"
      },
      "execution_count": 48,
      "outputs": [
        {
          "output_type": "stream",
          "name": "stdout",
          "text": [
            "79          new jersey\n",
            "84              oregon\n",
            "86              oregon\n",
            "89          california\n",
            "165       pennsylvania\n",
            "              ...     \n",
            "227607      new jersey\n",
            "227675      california\n",
            "227678      california\n",
            "227987      new jersey\n",
            "228183         florida\n",
            "Name: state, Length: 3425, dtype: object\n"
          ]
        }
      ]
    },
    {
      "cell_type": "code",
      "source": [
        "# Sort the dataframe by user_location and state\n",
        "sorted_filtered_df = filtered_df.sort_values(by=['user_location', 'state'])\n",
        "\n",
        "# Print the resulting dataframe with the user_location and state columns\n",
        "print(sorted_filtered_df[['user_location', 'state']])"
      ],
      "metadata": {
        "id": "iJNhVPeeUdLF",
        "colab": {
          "base_uri": "https://localhost:8080/"
        },
        "outputId": "31997c22-7a79-42d8-fac6-fded286959fa"
      },
      "execution_count": 50,
      "outputs": [
        {
          "output_type": "stream",
          "name": "stdout",
          "text": [
            "                         user_location       state\n",
            "218739         #FreeState Florida, USA     florida\n",
            "19412         (314) STL, Missouri, USA    missouri\n",
            "157141  ..................Texas, USA..       texas\n",
            "157142  ..................Texas, USA..       texas\n",
            "157143  ..................Texas, USA..       texas\n",
            "...                                ...         ...\n",
            "206469                    Wyoming, USA     wyoming\n",
            "207025    Yavapai County, Arizona, USA     arizona\n",
            "201784  rural Northern California, USA  california\n",
            "224862  rural Northern California, USA  california\n",
            "51807               west Michigan, USA    michigan\n",
            "\n",
            "[3425 rows x 2 columns]\n"
          ]
        }
      ]
    },
    {
      "cell_type": "code",
      "source": [
        "import matplotlib.pyplot as plt\n",
        "\n",
        "#counts by state in terms of user location in the filtered_df dataframe\n",
        "state_counts = filtered_df[\"state\"].value_counts().head(5)\n",
        "\n",
        "#bar chart of the state counts\n",
        "plt.bar(state_counts.index, state_counts.values)\n",
        "\n",
        "#labels \n",
        "plt.xlabel(\"State\")\n",
        "plt.ylabel(\"Number of Users\")\n",
        "plt.title(\"Top 5 States by User Location\")\n",
        "\n",
        "#display\n",
        "plt.show()"
      ],
      "metadata": {
        "id": "pEEWgG7FUfxv",
        "colab": {
          "base_uri": "https://localhost:8080/",
          "height": 295
        },
        "outputId": "5a40b1a9-d961-4af1-870a-c736628fee7f"
      },
      "execution_count": 53,
      "outputs": [
        {
          "output_type": "display_data",
          "data": {
            "text/plain": [
              "<Figure size 432x288 with 1 Axes>"
            ],
            "image/png": "[encoded data removed]"
          },
          "metadata": {
            "needs_background": "light"
          }
        }
      ]
    },
    {
      "cell_type": "markdown",
      "source": [
        "Using the pandas library, group the Twitter Data dataframe by \"source\" column and calculate the median, mean, and standard deviation of the number of followers. **(3 points)**"
      ],
      "metadata": {
        "id": "QbDhgEaJI1uV"
      }
    },
    {
      "cell_type": "code",
      "source": [
        "#------------------------Helper Code-------------------\n",
        "import pandas as pd\n",
        "\n",
        "#load csv file into a pandas dataframe\n",
        "twitter_df = pd.read_csv('TwitterData.csv').dropna()"
      ],
      "metadata": {
        "id": "WXwgoBkXI6-U"
      },
      "execution_count": 33,
      "outputs": []
    },
    {
      "cell_type": "code",
      "source": [
        "#filtering\n",
        "searchfor = [\"Twitter for Android\" , \"Twitter Web App\" , \"Twitter for iPhone\"]\n",
        "twitter_df = twitter_df[twitter_df.source.str.contains('|'.join(searchfor))]"
      ],
      "metadata": {
        "id": "bCF_tPf_KX3-"
      },
      "execution_count": 34,
      "outputs": []
    },
    {
      "cell_type": "code",
      "source": [
        "#group by source and followers and calculate central tendencies \n",
        "\n",
        "#mean\n",
        "filtered_df.groupby('source')['user_followers'].mean()\n"
      ],
      "metadata": {
        "colab": {
          "base_uri": "https://localhost:8080/"
        },
        "id": "XVigE1-4KZbh",
        "outputId": "83410c82-caa1-465d-e89b-595421aced80"
      },
      "execution_count": 41,
      "outputs": [
        {
          "output_type": "execute_result",
          "data": {
            "text/plain": [
              "source\n",
              "Blog2Social APP                 167.333333\n",
              "Buffer                       209234.531915\n",
              "Foursquare                      349.000000\n",
              "Hootsuite Inc.                 2022.863636\n",
              "IFTTT                          2004.166667\n",
              "IndiaPost                       648.857143\n",
              "Instagram                       544.421875\n",
              "LinkedIn                       3378.200000\n",
              "OptionsMaxPain_Post            3427.000000\n",
              "OptionsProOI                   2624.000000\n",
              "OptionsProVol                  1680.000000\n",
              "PLANOLY                       14284.000000\n",
              "Paper.li                       1374.000000\n",
              "SEMrush Social Media Tool        51.000000\n",
              "SmartNews | スマートニュース            305.000000\n",
              "SocialFlow                     7835.000000\n",
              "SocialJoey                      466.000000\n",
              "Spreaker                       9363.000000\n",
              "Sprout Social                  3278.400000\n",
              "StockTwits Web                  251.666667\n",
              "Talon Android                  2592.000000\n",
              "Tumblr                          281.000000\n",
              "Tweepsmap                     46802.000000\n",
              "TweetDeck                      1801.849057\n",
              "Tweetbot for Mac                656.000000\n",
              "Tweetbot for iΟS                834.000000\n",
              "Twitter Media Studio           3815.000000\n",
              "Twitter Web App                3380.960000\n",
              "Twitter for Android            1007.044517\n",
              "Twitter for Mac                1220.300000\n",
              "Twitter for iPad               1997.784091\n",
              "Twitter for iPhone             1681.930517\n",
              "Twitterrific for iOS            393.000000\n",
              "WordPress.com                 55978.000000\n",
              "iHeartMedia Publishing        15137.000000\n",
              "tickwatcher                    5233.500000\n",
              "Name: user_followers, dtype: float64"
            ]
          },
          "metadata": {},
          "execution_count": 41
        }
      ]
    },
    {
      "cell_type": "code",
      "source": [
        "#median\n",
        "filtered_df.groupby('source')['user_followers'].median()"
      ],
      "metadata": {
        "id": "ZpeY59145Y8C"
      },
      "execution_count": null,
      "outputs": []
    },
    {
      "cell_type": "code",
      "source": [
        "#std\n",
        "filtered_df.groupby('source')['user_followers'].std()"
      ],
      "metadata": {
        "id": "RyEaENOO5azv"
      },
      "execution_count": null,
      "outputs": []
    }
  ],
  "metadata": {
    "colab": {
      "provenance": []
    },
    "kernelspec": {
      "display_name": "Python 3",
      "name": "python3"
    },
    "language_info": {
      "name": "python"
    }
  },
  "nbformat": 4,
  "nbformat_minor": 0
}